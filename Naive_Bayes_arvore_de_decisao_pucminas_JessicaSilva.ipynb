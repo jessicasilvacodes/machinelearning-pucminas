{
  "nbformat": 4,
  "nbformat_minor": 0,
  "metadata": {
    "colab": {
      "provenance": [],
      "include_colab_link": true
    },
    "kernelspec": {
      "name": "python3",
      "display_name": "Python 3"
    }
  },
  "cells": [
    {
      "cell_type": "markdown",
      "metadata": {
        "id": "view-in-github",
        "colab_type": "text"
      },
      "source": [
        "<a href=\"https://colab.research.google.com/github/jessicasilvacodes/machinelearning-pucminas/blob/main/Naive_Bayes_arvore_de_decisao_pucminas_JessicaSilva.ipynb\" target=\"_parent\"><img src=\"https://colab.research.google.com/assets/colab-badge.svg\" alt=\"Open In Colab\"/></a>"
      ]
    },
    {
      "metadata": {
        "id": "2r8uNeTlxVSN"
      },
      "cell_type": "markdown",
      "source": [
        "# Naïve Bayes\n",
        "\n",
        "Este notebook foi desenvolvido para projetos e exercícios de Machine Learning do curso de CIÊNCIA DE DADOS APLICADA À SAÚDE da PUC Minas.\n",
        "\n",
        "Autora: Jessica Santos da Silva\n",
        "\n",
        "Professor: Hugo de Paula\n",
        "\n"
      ]
    },
    {
      "cell_type": "markdown",
      "source": [
        "\n",
        "## Base de dados: Iris dataset (espécies de lírios)\n",
        "\n",
        "https://archive.ics.uci.edu/ml/datasets/Iris/\n",
        "\n",
        "### Descrição:\n",
        "3 classes (setosa, virginica, versicolor)\n",
        "\n",
        "50 amostras por classe\n",
        "\n",
        "4 atributos reais positivos (comp. pétala, comp. sépala, larg. pétala, larg. sépala)\n",
        "\n"
      ],
      "metadata": {
        "id": "cedyGF_kObka"
      }
    },
    {
      "cell_type": "markdown",
      "source": [
        "### Carga dos dados e particionamento das bases de treinamento e teste:\n",
        "\n",
        "<code>train_test_split(X, y) -- particiona a base de dados original em bases de treinamento e teste.</code>\n",
        "\n",
        "Por padrão, 75% da base é utilizada para treinamento e 25% para testes.\n",
        "\n"
      ],
      "metadata": {
        "id": "ZNNZ5EtCOeyU"
      }
    },
    {
      "metadata": {
        "id": "Jdme4B9eNngv"
      },
      "cell_type": "code",
      "source": [
        "import pandas as pd\n",
        "from sklearn.datasets import load_iris\n",
        "from sklearn.model_selection import train_test_split\n",
        "from sklearn.naive_bayes import GaussianNB\n",
        "from sklearn.metrics import confusion_matrix, classification_report"
      ],
      "execution_count": 1,
      "outputs": []
    },
    {
      "cell_type": "code",
      "source": [
        "iris = load_iris()\n",
        "\n",
        "X_train, X_test, y_train, y_test = train_test_split(\n",
        "                                iris['data'], iris['target'], random_state=0)"
      ],
      "metadata": {
        "id": "HjCjxwiuPY5s"
      },
      "execution_count": 2,
      "outputs": []
    },
    {
      "metadata": {
        "id": "liYWihBnxt6L"
      },
      "cell_type": "markdown",
      "source": [
        "### Indução do Modelo Gaussian Naïve Bayes:\n",
        "\n",
        "O Gaussian Naïve Bayes é o algoritmo capaz de induzir um modelo a partir de dados numéricos.\n",
        "\n",
        "Os três passos para indução de um modelo são:\n",
        "\n",
        "1.   Instanciar o modelo: ```GaussianNB()```\n",
        "2.   Treinar o modelo: ```fit()```\n",
        "3.   Testar o modelo: ```predict()```\n",
        "\n"
      ]
    },
    {
      "metadata": {
        "id": "mUiiCok3xulx",
        "colab": {
          "base_uri": "https://localhost:8080/"
        },
        "outputId": "81aa26a0-f6ff-48b2-b98d-ff262a513cf0"
      },
      "cell_type": "code",
      "source": [
        "gnb = GaussianNB()\n",
        "y_pred = gnb.fit(X_train, y_train).predict(X_test)\n",
        "\n",
        "print(\"Número de erros de classificação {0} de {1}\"\n",
        "      .format((y_test != y_pred).sum(), iris.data.shape[0]))\n",
        "\n",
        "ac = gnb.score(X_test, y_test)\n",
        "\n",
        "print(\"\\nAcurácia do modelo: {0:.2f}%\\n\".format(100*ac))\n",
        "\n",
        "print(classification_report(y_test, y_pred, target_names=iris.target_names))"
      ],
      "execution_count": 3,
      "outputs": [
        {
          "output_type": "stream",
          "name": "stdout",
          "text": [
            "Número de erros de classificação 0 de 150\n",
            "\n",
            "Acurácia do modelo: 100.00%\n",
            "\n",
            "              precision    recall  f1-score   support\n",
            "\n",
            "      setosa       1.00      1.00      1.00        13\n",
            "  versicolor       1.00      1.00      1.00        16\n",
            "   virginica       1.00      1.00      1.00         9\n",
            "\n",
            "    accuracy                           1.00        38\n",
            "   macro avg       1.00      1.00      1.00        38\n",
            "weighted avg       1.00      1.00      1.00        38\n",
            "\n"
          ]
        }
      ]
    },
    {
      "cell_type": "code",
      "source": [
        "cnf_matrix = confusion_matrix(y_test, y_pred)\n",
        "cnf_table = pd.DataFrame(data=cnf_matrix, index=iris.target_names, columns=[x + \"(prev)\" for x in iris.target_names])\n",
        "print(cnf_table)"
      ],
      "metadata": {
        "colab": {
          "base_uri": "https://localhost:8080/"
        },
        "id": "oCYs2U6WPeu2",
        "outputId": "d1c2f9cd-cd9a-4c6b-8bfc-c17e74ded992"
      },
      "execution_count": 4,
      "outputs": [
        {
          "output_type": "stream",
          "name": "stdout",
          "text": [
            "            setosa(prev)  versicolor(prev)  virginica(prev)\n",
            "setosa                13                 0                0\n",
            "versicolor             0                16                0\n",
            "virginica              0                 0                9\n"
          ]
        }
      ]
    }
  ]
}